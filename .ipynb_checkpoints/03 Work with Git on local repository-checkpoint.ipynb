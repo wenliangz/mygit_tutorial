{
 "cells": [
  {
   "cell_type": "markdown",
   "metadata": {},
   "source": [
    "# Work with Git on local repository"
   ]
  },
  {
   "cell_type": "markdown",
   "metadata": {},
   "source": [
    "## 1. First-Time Git Setup"
   ]
  },
  {
   "cell_type": "markdown",
   "metadata": {},
   "source": [
    "Once Git is installed, you’ll want to do a few things to **customize your Git environment**. You should have to do these things only once on any given computer; they’ll stick around between upgrades. You can also change them at any time by running through the commands again"
   ]
  },
  {
   "cell_type": "markdown",
   "metadata": {},
   "source": [
    "### 1.1 Command to configure the settings"
   ]
  },
  {
   "cell_type": "raw",
   "metadata": {},
   "source": [
    "git config"
   ]
  },
  {
   "cell_type": "markdown",
   "metadata": {},
   "source": [
    "- With --global option.  Git will always use that information for anything you do on that system. \n",
    "- Without --global option. If you want to override this with a different name or email address for specific projects, you can run the command without the --global option when you’re in that project."
   ]
  },
  {
   "cell_type": "markdown",
   "metadata": {},
   "source": [
    "#### Configure Your Identity:"
   ]
  },
  {
   "cell_type": "markdown",
   "metadata": {},
   "source": [
    "The first thing you should do when you install Git is to set your user name and email address. This is important because every Git commit uses this information, and it’s immutably baked into the commits you start creating."
   ]
  },
  {
   "cell_type": "raw",
   "metadata": {},
   "source": [
    "$ git config --global user.name \"John Doe\"\n"
   ]
  },
  {
   "cell_type": "raw",
   "metadata": {},
   "source": [
    "$ git config --global user.email johndoe@example.com\n"
   ]
  },
  {
   "cell_type": "markdown",
   "metadata": {},
   "source": [
    "#### Configure the editor:"
   ]
  },
  {
   "cell_type": "markdown",
   "metadata": {},
   "source": [
    "Set the Emacs as default editor"
   ]
  },
  {
   "cell_type": "raw",
   "metadata": {},
   "source": [
    "$ git config --global core.editor emacs"
   ]
  },
  {
   "cell_type": "markdown",
   "metadata": {},
   "source": [
    "While on a Windows system, if you want to use a different text editor, such as Notepad++, you can do the following:"
   ]
  },
  {
   "cell_type": "raw",
   "metadata": {},
   "source": [
    "$ git config --global core.editor \"'C:/Program Files/Notepad++/notepad++.exe' -multiInst -nosession\""
   ]
  },
  {
   "cell_type": "markdown",
   "metadata": {},
   "source": [
    "### 1.2 Checking the settings"
   ]
  },
  {
   "cell_type": "markdown",
   "metadata": {},
   "source": [
    "#### List all the settings:"
   ]
  },
  {
   "cell_type": "markdown",
   "metadata": {},
   "source": [
    "You may see keys more than once, because Git reads the same key from different files (/etc/gitconfig and ~/.gitconfig, for example). In this case, Git uses the last value for each unique key it sees."
   ]
  },
  {
   "cell_type": "raw",
   "metadata": {},
   "source": [
    "$ git config --list"
   ]
  },
  {
   "cell_type": "raw",
   "metadata": {},
   "source": [
    "$ git config --list"
   ]
  },
  {
   "cell_type": "markdown",
   "metadata": {},
   "source": [
    "#### Check specific key’s value"
   ]
  },
  {
   "cell_type": "raw",
   "metadata": {},
   "source": [
    "$ git config user.name"
   ]
  },
  {
   "cell_type": "markdown",
   "metadata": {},
   "source": [
    "## 2. Setup a Local Git Repository"
   ]
  },
  {
   "cell_type": "markdown",
   "metadata": {},
   "source": [
    "Two ways to setup a local Git repository:\n",
    "- Initializing a Git Repository in an Existing Directory (create a new Git repository in local directory to be tracked)\n",
    "- Cloning an Existing Git Repository   (get a copy of existing Git repository)"
   ]
  },
  {
   "cell_type": "markdown",
   "metadata": {},
   "source": [
    "### 2.1 Initializing a Git Repository in an Existing Directory"
   ]
  },
  {
   "cell_type": "markdown",
   "metadata": {},
   "source": [
    "This is the case when you have an existing project folder with files in your local computer and want to add those files into a local git repository in order to keep them in track."
   ]
  },
  {
   "cell_type": "markdown",
   "metadata": {},
   "source": [
    "#### Initialize a local Git repository"
   ]
  },
  {
   "cell_type": "raw",
   "metadata": {},
   "source": [
    "$ git init"
   ]
  },
  {
   "cell_type": "markdown",
   "metadata": {},
   "source": [
    "Please note that this creates a new subdirectory named .git that contains all of your necessary repository files – a Git repository skeleton. However, **at this point, nothing in your project is tracked(version controlled) yet**."
   ]
  },
  {
   "cell_type": "markdown",
   "metadata": {},
   "source": [
    "### 2.2 Cloning an Existing Repository from Git server"
   ]
  },
  {
   "cell_type": "markdown",
   "metadata": {},
   "source": [
    "This is the case, when you want to get a copy of an existing Git repository. "
   ]
  },
  {
   "cell_type": "raw",
   "metadata": {},
   "source": [
    "$ git clone [address]"
   ]
  },
  {
   "cell_type": "markdown",
   "metadata": {},
   "source": [
    "This command will clone a full copy of nearly all data that the server has. Every version of every file for the history of the project is pulled down by default when you run git clone."
   ]
  },
  {
   "cell_type": "markdown",
   "metadata": {},
   "source": [
    "Git server has a number of different transfer protocols you can use. Based on different protocols, the command format will look a little different. \n",
    "\n",
    "- use http protocol, you may uses the https:// protocol\n",
    "- for SSH transfer protocol, but you may also see git:// or user@server:path/to/repo.git"
   ]
  },
  {
   "cell_type": "markdown",
   "metadata": {},
   "source": [
    "For example, you want to to clone the Git linkable library called libgit2, you can do so like this:\n",
    "\n"
   ]
  },
  {
   "cell_type": "raw",
   "metadata": {},
   "source": [
    "$ git clone https://github.com/libgit2/libgit2"
   ]
  },
  {
   "cell_type": "markdown",
   "metadata": {},
   "source": [
    "That creates a directory named “libgit2”, initializes a .git directory inside it, pulls down all the data for that repository, and checks out a working copy of the latest version. If you go into the new libgit2 directory, you’ll see the project files in there, ready to be worked on or used. If you want to clone the repository into a directory named something other than “libgit2”, you can specify that as the next command-line option:"
   ]
  },
  {
   "cell_type": "raw",
   "metadata": {},
   "source": [
    "$ git clone https://github.com/libgit2/libgit2 mylibgit"
   ]
  },
  {
   "cell_type": "markdown",
   "metadata": {},
   "source": [
    "## 3. Recording Changes to the Local Git Repository"
   ]
  },
  {
   "cell_type": "markdown",
   "metadata": {},
   "source": [
    "Once we initialize a new local git repository or cloned an existing repository, we are ready to **record changes of the files to Git repository**. The changes include adding new files and modifing files. To record these changes, there are two steps:\n",
    "- Stage the changes by **add** command\n",
    "- Commit the changes by **commit** command"
   ]
  },
  {
   "cell_type": "markdown",
   "metadata": {},
   "source": [
    "### 3.1 Add and Remove new files to Git repository"
   ]
  },
  {
   "cell_type": "markdown",
   "metadata": {},
   "source": [
    "#### Add new files into Git repository:"
   ]
  },
  {
   "cell_type": "markdown",
   "metadata": {},
   "source": [
    "- When we first initialize a new local git repository by init command, there are nothing that are kept in track yet. We will first need to add files into the git repository for tracking(version control). Normally you will want to add all the files in the directory into the staging area and commit changes immediately as a initial snapshot."
   ]
  },
  {
   "cell_type": "raw",
   "metadata": {},
   "source": [
    "$ git add *.*   # this add all the files"
   ]
  },
  {
   "cell_type": "markdown",
   "metadata": {},
   "source": [
    "- At any time during developing, you need to add new files into the git repository to keep tracks of the new files."
   ]
  },
  {
   "cell_type": "raw",
   "metadata": {},
   "source": [
    "$ git add *.py   # this add only .py files\n",
    "$ git add LICENSE  # this add only the LICENSE file"
   ]
  },
  {
   "cell_type": "markdown",
   "metadata": {},
   "source": [
    "#### Untrack files (Remove files from Git repository):"
   ]
  },
  {
   "cell_type": "raw",
   "metadata": {},
   "source": [
    "git rm --cached [filePath]: This will remove the file from the git repository, leaving you with an untracked file."
   ]
  },
  {
   "cell_type": "markdown",
   "metadata": {},
   "source": [
    "#### Ignore files from tracking:"
   ]
  },
  {
   "cell_type": "markdown",
   "metadata": {},
   "source": [
    "Often, you’ll have a class of files that you don’t want Git to automatically add or even show you as being untracked. These are generally automatically generated files such as log files or files produced by your build system. In such cases, you can create a file named **.gitignore**  and in the file list patterns to match the file names to be ignored"
   ]
  },
  {
   "cell_type": "markdown",
   "metadata": {},
   "source": [
    "An example of .gitignore file:"
   ]
  },
  {
   "cell_type": "raw",
   "metadata": {},
   "source": [
    "# no .a files\n",
    "*.a\n",
    "\n",
    "# but do track lib.a, even though you're ignoring .a files above\n",
    "!lib.a\n",
    "\n",
    "# only ignore the TODO file in the current directory, not subdir/TODO\n",
    "/TODO\n",
    "\n",
    "# ignore all files in the build/ directory\n",
    "build/\n",
    "\n",
    "# ignore doc/notes.txt, but not doc/server/arch.txt\n",
    "doc/*.txt\n",
    "\n",
    "# ignore all .pdf files in the doc/ directory\n",
    "doc/**/*.pdf"
   ]
  },
  {
   "cell_type": "markdown",
   "metadata": {},
   "source": [
    "GitHub maintains a fairly comprehensive list of good .gitignore file examples for dozens of projects and languages at https://github.com/github/gitignore if you want a starting point for your project."
   ]
  },
  {
   "cell_type": "markdown",
   "metadata": {},
   "source": [
    "#### Moving Files:"
   ]
  },
  {
   "cell_type": "raw",
   "metadata": {},
   "source": [
    "$ git mv file_from file_to"
   ]
  },
  {
   "cell_type": "markdown",
   "metadata": {},
   "source": [
    "This is equivalent to running something like this:"
   ]
  },
  {
   "cell_type": "raw",
   "metadata": {},
   "source": [
    "$ mv README.md README\n",
    "$ git rm README.md\n",
    "$ git add README"
   ]
  },
  {
   "cell_type": "markdown",
   "metadata": {},
   "source": [
    "Unlike many other VCS systems, Git doesn’t explicitly track file movement. If you rename a file in Git, no metadata is stored in Git that tells it you renamed the file. However, Git is pretty smart about figuring that out after the fact "
   ]
  },
  {
   "cell_type": "markdown",
   "metadata": {},
   "source": [
    "### 3.2 Stage and Unstage file changes to Git repository"
   ]
  },
  {
   "cell_type": "markdown",
   "metadata": {},
   "source": [
    "Stage changes means to add all the changes into the staging area in order to make a final commit(take a snap shot). It is like that we put all the peoples or make changes to the people in front of the camera ready to take a picture! "
   ]
  },
  {
   "cell_type": "raw",
   "metadata": {},
   "source": [
    "$ git add [modified files]"
   ]
  },
  {
   "cell_type": "markdown",
   "metadata": {},
   "source": [
    "### Stage modified files:"
   ]
  },
  {
   "cell_type": "markdown",
   "metadata": {},
   "source": [
    "When you modified a file and want to track the modified changes in the git repository, you will also first need to add the modified files into the staging area before committing the changes."
   ]
  },
  {
   "cell_type": "markdown",
   "metadata": {},
   "source": [
    "After you modified a file, you also want to add the file to the staging area for committing changes later."
   ]
  },
  {
   "cell_type": "raw",
   "metadata": {},
   "source": [
    "$ vim readme.txt"
   ]
  },
  {
   "cell_type": "raw",
   "metadata": {},
   "source": [
    "$ git add readme.txt"
   ]
  },
  {
   "cell_type": "markdown",
   "metadata": {},
   "source": [
    "### Unstage files:"
   ]
  },
  {
   "cell_type": "raw",
   "metadata": {},
   "source": [
    "git reset [filePath]: This will unstage any staged changes for the given file(s)."
   ]
  },
  {
   "cell_type": "markdown",
   "metadata": {},
   "source": [
    "### 3.2 Commit file changes to Git repository"
   ]
  },
  {
   "cell_type": "markdown",
   "metadata": {},
   "source": [
    "After you first initialized a git repository, you will normally add all the files in the directory into the staging area and commit changes immediately as a initial snapshot."
   ]
  },
  {
   "cell_type": "raw",
   "metadata": {},
   "source": [
    "$ git commit -m 'initial project version'"
   ]
  },
  {
   "cell_type": "markdown",
   "metadata": {},
   "source": [
    "When the project reaches a state you want to record all the changes(take a snap shot), then you need first put all the changes in the staging areas and make a commit to take snapshots of those changes into your git repository."
   ]
  },
  {
   "cell_type": "raw",
   "metadata": {},
   "source": [
    "$ git commit -m 'stable version'"
   ]
  },
  {
   "cell_type": "markdown",
   "metadata": {},
   "source": [
    "### 3.3 Add and Commit file changes to Git repository in one step"
   ]
  },
  {
   "cell_type": "markdown",
   "metadata": {},
   "source": [
    "Adding the -a option to the git commit command makes Git automatically stage every file that is already tracked before doing the commit, letting you skip the git add part:"
   ]
  },
  {
   "cell_type": "raw",
   "metadata": {},
   "source": [
    "$ git commit -a -m 'added new benchmarks'"
   ]
  },
  {
   "cell_type": "markdown",
   "metadata": {},
   "source": [
    "## 4. Check the status of files in Git repository"
   ]
  },
  {
   "cell_type": "markdown",
   "metadata": {},
   "source": [
    "When working with files in Git repository, we will frequently need to check the status of files in the working directory. There are several status of files in the file life cycle. "
   ]
  },
  {
   "cell_type": "markdown",
   "metadata": {},
   "source": [
    "<img  src=\"JT29XVXTY8SRH5GHQ9W1VAYSVU2PHMU7.png\"/>"
   ]
  },
  {
   "cell_type": "markdown",
   "metadata": {},
   "source": [
    "### 4.1 To see the status of all the files in the working directory"
   ]
  },
  {
   "cell_type": "markdown",
   "metadata": {},
   "source": [
    "#### Detailed Status:"
   ]
  },
  {
   "cell_type": "raw",
   "metadata": {},
   "source": [
    "$ git status"
   ]
  },
  {
   "cell_type": "markdown",
   "metadata": {},
   "source": [
    "Ths command is used to determine which files are in which state for all fiels in the current working directory. Each file can be in two statuss, untracked or tracked, and each tracked file have three different status."
   ]
  },
  {
   "cell_type": "markdown",
   "metadata": {},
   "source": [
    "- **untracked**: have not been added into local git repository\n",
    "- **tracked**: it has been added into local git repository. The tracked files also have three different status: \n",
    "    - unmodified\n",
    "    - modified\n",
    "    - staged\n"
   ]
  },
  {
   "cell_type": "markdown",
   "metadata": {},
   "source": [
    "#### Short Status"
   ]
  },
  {
   "cell_type": "markdown",
   "metadata": {},
   "source": [
    "While the git status output is pretty comprehensive, it’s also quite wordy. Git also has a short status flag so you can see your changes in a more compact way. If you run git status -s or git status --short you get a far more simplified output from the command:"
   ]
  },
  {
   "cell_type": "raw",
   "metadata": {},
   "source": [
    "$ git status -s"
   ]
  },
  {
   "cell_type": "markdown",
   "metadata": {},
   "source": [
    "### 4.2 To see what you’ve changed but not yet staged"
   ]
  },
  {
   "cell_type": "markdown",
   "metadata": {},
   "source": [
    "#### File changed, but not staged:"
   ]
  },
  {
   "cell_type": "markdown",
   "metadata": {},
   "source": [
    "Type git diff with no other arguments.That command compares what is in your working directory with what is in your staging area. The result tells you the changes you’ve made that you haven’t yet staged."
   ]
  },
  {
   "cell_type": "markdown",
   "metadata": {},
   "source": [
    "It’s important to note that git diff by itself doesn’t show all changes made since your last commit – only changes that are still unstaged. This can be confusing, because if you’ve staged all of your changes, git diff will give you no output."
   ]
  },
  {
   "cell_type": "raw",
   "metadata": {},
   "source": [
    "$ git diff"
   ]
  },
  {
   "cell_type": "markdown",
   "metadata": {},
   "source": [
    "#### File staged, but not committed:"
   ]
  },
  {
   "cell_type": "markdown",
   "metadata": {},
   "source": [
    "If you want to see what you’ve staged that will go into your next commit, you can use git diff --staged. This command compares your staged changes to your last commit:"
   ]
  },
  {
   "cell_type": "raw",
   "metadata": {},
   "source": [
    "$ git diff --staged"
   ]
  },
  {
   "cell_type": "markdown",
   "metadata": {},
   "source": [
    "## 5. Viewing the Commit History"
   ]
  },
  {
   "cell_type": "markdown",
   "metadata": {},
   "source": [
    "After you have created several commits, or if you have cloned a repository with an existing commit history, you’ll probably want to look back to see what has happened. The most basic and powerful tool to do this is the git log command."
   ]
  },
  {
   "cell_type": "raw",
   "metadata": {},
   "source": [
    "$ git log"
   ]
  },
  {
   "cell_type": "markdown",
   "metadata": {},
   "source": [
    "### with no arguments:"
   ]
  },
  {
   "cell_type": "markdown",
   "metadata": {},
   "source": [
    "with no arguments, git log lists the commits made in that repository in reverse chronological order – that is, the most recent commits show up first. As you can see, this command lists each commit with its SHA-1 checksum, the author’s name and email, the date written, and the commit message."
   ]
  },
  {
   "cell_type": "markdown",
   "metadata": {},
   "source": [
    "### Some useful options:"
   ]
  },
  {
   "cell_type": "markdown",
   "metadata": {},
   "source": [
    "- use -p, which shows the difference introduced in each commit. \n",
    "- use -n, where n is any integer to show the last n commits."
   ]
  },
  {
   "cell_type": "markdown",
   "metadata": {},
   "source": [
    "This is very helpful for code review or to quickly browse what happened during a series of commits that a collaborator has added. "
   ]
  },
  {
   "cell_type": "raw",
   "metadata": {},
   "source": [
    "$ git log -p -2"
   ]
  },
  {
   "cell_type": "markdown",
   "metadata": {},
   "source": [
    "- use summarizing options such as --stat:"
   ]
  },
  {
   "cell_type": "raw",
   "metadata": {},
   "source": [
    "$ git log --stat"
   ]
  },
  {
   "cell_type": "markdown",
   "metadata": {},
   "source": [
    "- the time-limiting options such as --since and --until are very useful. For example, this command gets the list of commits made in the last two weeks:"
   ]
  },
  {
   "cell_type": "raw",
   "metadata": {},
   "source": [
    "$ git log --since=2.weeks"
   ]
  },
  {
   "cell_type": "markdown",
   "metadata": {},
   "source": [
    "- the -S option which takes a string and only shows the commits that introduced a change to the code that added or removed that string. For instance, if you wanted to find the last commit that added or removed a reference to a specific function, you could call:\n"
   ]
  },
  {
   "cell_type": "raw",
   "metadata": {},
   "source": [
    "$ git log -Sfunction_name"
   ]
  },
  {
   "cell_type": "markdown",
   "metadata": {},
   "source": [
    "- use ouble dashes (--) to pass a path to git log as a filter. The path is generally preceded by double dashes (--) to separate the paths from the options."
   ]
  },
  {
   "cell_type": "raw",
   "metadata": {},
   "source": [
    "$ git log --pretty=\"%h - %s\" --author=gitster --since=\"2008-10-01\" \\\n",
    "   --before=\"2008-11-01\" --no-merges -- t/"
   ]
  },
  {
   "cell_type": "markdown",
   "metadata": {},
   "source": [
    "- use --pretty to format log output"
   ]
  },
  {
   "cell_type": "raw",
   "metadata": {},
   "source": [
    "$ git log --pretty=oneline"
   ]
  },
  {
   "cell_type": "raw",
   "metadata": {},
   "source": [
    "$ git log --pretty=format:\"%h - %an, %ar : %s\""
   ]
  }
 ],
 "metadata": {
  "kernelspec": {
   "display_name": "Python 3",
   "language": "python",
   "name": "python3"
  },
  "language_info": {
   "codemirror_mode": {
    "name": "ipython",
    "version": 3
   },
   "file_extension": ".py",
   "mimetype": "text/x-python",
   "name": "python",
   "nbconvert_exporter": "python",
   "pygments_lexer": "ipython3",
   "version": "3.5.1"
  },
  "latex_envs": {
   "bibliofile": "biblio.bib",
   "cite_by": "apalike",
   "current_citInitial": 1,
   "eqLabelWithNumbers": true,
   "eqNumInitial": 0
  }
 },
 "nbformat": 4,
 "nbformat_minor": 0
}
