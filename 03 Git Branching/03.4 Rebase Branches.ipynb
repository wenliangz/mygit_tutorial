{
 "cells": [
  {
   "cell_type": "markdown",
   "metadata": {},
   "source": [
    "# Rebase Branches"
   ]
  },
  {
   "cell_type": "markdown",
   "metadata": {},
   "source": [
    "There are two main ways to integrate changes from one branch into another: **merge ** and ** rebase**. But they do it in very different ways.\n"
   ]
  },
  {
   "cell_type": "markdown",
   "metadata": {},
   "source": [
    "## 1. Rebase"
   ]
  },
  {
   "cell_type": "markdown",
   "metadata": {},
   "source": [
    "### 1.1 Rebase to integrate changes from other branches"
   ]
  },
  {
   "cell_type": "markdown",
   "metadata": {},
   "source": [
    "current commit history:"
   ]
  },
  {
   "cell_type": "markdown",
   "metadata": {},
   "source": [
    "<img  src=\"../figs/CAD4SP6DFHX1QRN4YJ0MLE4S342R9OER.png\"/>"
   ]
  },
  {
   "cell_type": "markdown",
   "metadata": {},
   "source": [
    " If we want to take the patch of the change that was introduced in C4 and reapply it on top of C, this is called **rebasing**."
   ]
  },
  {
   "cell_type": "raw",
   "metadata": {},
   "source": [
    "$ git checkout experiment\n",
    "$ git rebase master"
   ]
  },
  {
   "cell_type": "markdown",
   "metadata": {},
   "source": [
    "Here are the steps:\n",
    "- going to the common ancestor of the two branches (the one you’re on and the one you’re rebasing onto), \n",
    "- getting the diff introduced by each commit of the branch you’re on, \n",
    "- saving those diffs to temporary files, \n",
    "- resetting the current branch to the same commit as the branch you are rebasing onto, \n",
    "- and finally applying each change in turn."
   ]
  },
  {
   "cell_type": "markdown",
   "metadata": {},
   "source": [
    "After rebasing:"
   ]
  },
  {
   "cell_type": "markdown",
   "metadata": {},
   "source": [
    "<img  src=\"../figs/B2M48MBCOJN9X85H0IWRLJQAMQB2OF1K.png\"/>"
   ]
  },
  {
   "cell_type": "markdown",
   "metadata": {},
   "source": [
    "At this point, you can go back to the master branch and do a fast-forward merge"
   ]
  },
  {
   "cell_type": "raw",
   "metadata": {},
   "source": [
    "$ git checkout master\n",
    "$ git merge experiment"
   ]
  },
  {
   "cell_type": "markdown",
   "metadata": {},
   "source": [
    "<img  src=\"../figs/OAUF05QH6A3K1WBNLB6Q1FRQE3IYF3I5.png\"/>"
   ]
  },
  {
   "cell_type": "markdown",
   "metadata": {},
   "source": [
    "### 1.2 Interactive Rebase to Amending older or multiple commit messages"
   ]
  },
  {
   "cell_type": "markdown",
   "metadata": {},
   "source": [
    "If you need to amend the message for multiple commits or an older commit, you can use interactive rebase, then force push to change the commit history."
   ]
  },
  {
   "cell_type": "markdown",
   "metadata": {},
   "source": [
    "- On the command line, navigate to the repository that contains the commit you want to amend.\n",
    "- Use the 'git rebase -i HEAD~n' command to display a list of the last n commits in your default text editor."
   ]
  },
  {
   "cell_type": "raw",
   "metadata": {},
   "source": [
    "git rebase -i HEAD~3 # Displays a list of the last 3 commits on the current branch"
   ]
  },
  {
   "cell_type": "markdown",
   "metadata": {},
   "source": [
    "The list will look similar to the following:"
   ]
  },
  {
   "cell_type": "raw",
   "metadata": {},
   "source": [
    "pick e499d89 Delete CNAME\n",
    "pick 0c39034 Better README\n",
    "pick f7fde4a Change the commit message but push the same commit.\n",
    "\n",
    "# Rebase 9fdb3bd..f7fde4a onto 9fdb3bd\n",
    "#\n",
    "# Commands:\n",
    "#  p, pick = use commit\n",
    "#  r, reword = use commit, but edit the commit message\n",
    "#  e, edit = use commit, but stop for amending\n",
    "#  s, squash = use commit, but meld into previous commit\n",
    "#  f, fixup = like \"squash\", but discard this commit's log message\n",
    "#  x, exec = run command (the rest of the line) using shell\n",
    "#\n",
    "# These lines can be re-ordered; they are executed from top to bottom.\n",
    "#\n",
    "# If you remove a line here THAT COMMIT WILL BE LOST.\n",
    "#\n",
    "# However, if you remove everything, the rebase will be aborted.\n",
    "#\n",
    "# Note that empty commits are commented out"
   ]
  },
  {
   "cell_type": "markdown",
   "metadata": {},
   "source": [
    "Replace pick with reword before each commit message you want to change."
   ]
  },
  {
   "cell_type": "raw",
   "metadata": {},
   "source": [
    "pick e499d89 Delete CNAME\n",
    "reword 0c39034 Better README\n",
    "reword f7fde4a Change the commit message but push the same commit."
   ]
  },
  {
   "cell_type": "markdown",
   "metadata": {},
   "source": [
    "- Save and close the commit list file.\n",
    "- In each resulting commit file, type the new commit message, save the file, and close it.\n",
    "- Force-push the amended commits."
   ]
  },
  {
   "cell_type": "raw",
   "metadata": {},
   "source": [
    "$ git push --force"
   ]
  },
  {
   "cell_type": "markdown",
   "metadata": {},
   "source": [
    "## 2. Merge vs Rebase"
   ]
  },
  {
   "cell_type": "markdown",
   "metadata": {},
   "source": [
    "- Merging is a safe option that preserves the entire history of your repository, by creating a new merge commit in a true merge. \n",
    "- while rebasing creates a linear history by moving your current branch onto the tip of the other branch. But, instead of using a merge commit, rebasing re-writes the project history by creating brand new commits for each commit in the original branch."
   ]
  },
  {
   "cell_type": "markdown",
   "metadata": {},
   "source": [
    "<img  src=\"../figs/D0DB48BB5VYG074SF2B3JMXH2IBY0R5F.png\"/>"
   ]
  },
  {
   "cell_type": "markdown",
   "metadata": {},
   "source": [
    "### Advantage and disadvantages:"
   ]
  },
  {
   "cell_type": "markdown",
   "metadata": {},
   "source": [
    "- Merging is nice because it’s a non-destructive operation. The existing branches are not changed in any way. This avoids all of the potential pitfalls of rebasing (discussed below).\n",
    "\n",
    "- On the other hand, this also means that the feature branch will have an extraneous merge commit every time you need to incorporate upstream changes. If master is very active, this can pollute your feature branch’s history quite a bit. While it’s possible to mitigate this issue with advanced git log options, it can make it hard for other developers to understand the history of the project."
   ]
  }
 ],
 "metadata": {
  "kernelspec": {
   "display_name": "Python 3",
   "language": "python",
   "name": "python3"
  },
  "language_info": {
   "codemirror_mode": {
    "name": "ipython",
    "version": 3
   },
   "file_extension": ".py",
   "mimetype": "text/x-python",
   "name": "python",
   "nbconvert_exporter": "python",
   "pygments_lexer": "ipython3",
   "version": "3.5.2"
  },
  "latex_envs": {
   "bibliofile": "biblio.bib",
   "cite_by": "apalike",
   "current_citInitial": 1,
   "eqLabelWithNumbers": true,
   "eqNumInitial": 0
  }
 },
 "nbformat": 4,
 "nbformat_minor": 0
}
