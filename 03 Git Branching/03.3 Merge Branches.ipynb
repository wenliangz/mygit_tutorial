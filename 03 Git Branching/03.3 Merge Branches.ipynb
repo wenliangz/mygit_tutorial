{
 "cells": [
  {
   "cell_type": "markdown",
   "metadata": {},
   "source": [
    "# Merge Branches"
   ]
  },
  {
   "cell_type": "markdown",
   "metadata": {},
   "source": [
    "There are two main ways to integrate changes from one branch into another: **merge ** and ** rebase**. But they do it in very different ways.\n",
    "- Merging is a safe option that preserves the entire history of your repository, \n",
    "- while rebasing creates a linear history by moving your current branch onto the tip of the other branch. This is a different way of integrating upstream changes of the other branch after the parent branch."
   ]
  },
  {
   "cell_type": "markdown",
   "metadata": {},
   "source": [
    "## 1. Fast Forward Merge"
   ]
  },
  {
   "cell_type": "markdown",
   "metadata": {},
   "source": [
    "### 1.1 branching and commit history"
   ]
  },
  {
   "cell_type": "markdown",
   "metadata": {},
   "source": [
    "Assume the following history exists and the current branch is \"master\":"
   ]
  },
  {
   "cell_type": "markdown",
   "metadata": {
    "code_folding": [],
    "collapsed": true
   },
   "source": [
    "    A---B---C  master\n"
   ]
  },
  {
   "cell_type": "markdown",
   "metadata": {},
   "source": [
    "From mast branch, we want to create a new branch, issue1, for developer1 to work on the issue. developer1 has made another commit D in the branch, issue1."
   ]
  },
  {
   "cell_type": "raw",
   "metadata": {},
   "source": [
    "$git checkout -b issue1"
   ]
  },
  {
   "cell_type": "markdown",
   "metadata": {
    "code_folding": []
   },
   "source": [
    "    A---B---C  master\n",
    "             \\\n",
    "              D issue1*"
   ]
  },
  {
   "cell_type": "markdown",
   "metadata": {},
   "source": [
    "At this stage, we suddently noticed that we need to fix another critical issue in the master that you need to do a hotfix. So we create another branch called, hotfix. "
   ]
  },
  {
   "cell_type": "raw",
   "metadata": {},
   "source": [
    "$git checkout -b hotfix"
   ]
  },
  {
   "cell_type": "markdown",
   "metadata": {
    "code_folding": []
   },
   "source": [
    "    A---B---C  master(hotfix*)\n",
    "             \\\n",
    "              D issue1"
   ]
  },
  {
   "cell_type": "markdown",
   "metadata": {},
   "source": [
    "When we fix the hotfix and made another commit E."
   ]
  },
  {
   "cell_type": "raw",
   "metadata": {},
   "source": [
    "$ git commit -a -m 'fixed the broken email address'"
   ]
  },
  {
   "cell_type": "raw",
   "metadata": {},
   "source": [
    "$git tag -a E -m \"hotfix\""
   ]
  },
  {
   "cell_type": "markdown",
   "metadata": {},
   "source": [
    "              E hotfix*\n",
    "\t         /\n",
    "    A---B---C  master\n",
    "             \\\n",
    "              D issue1"
   ]
  },
  {
   "cell_type": "markdown",
   "metadata": {},
   "source": [
    "### 1.2 Fast Forward Merge"
   ]
  },
  {
   "cell_type": "markdown",
   "metadata": {},
   "source": [
    "Now we need to merge the hotfix branch back into your master branch to deploy to production. In this case, the branch(master) you want to merege into, is the acestor of the branch you want to merge(hotfix)."
   ]
  },
  {
   "cell_type": "markdown",
   "metadata": {},
   "source": [
    "To phrase that another way, when you try to merge one commit with a commit that can be reached by following the first commit’s history, Git simplifies things by moving the pointer forward because there is no divergent work to merge together – this is called a “**fast-forward**”"
   ]
  },
  {
   "cell_type": "markdown",
   "metadata": {},
   "source": [
    "Note we first need to checkout check out the branch you wish to merge into(master), and then run the git merge command:"
   ]
  },
  {
   "cell_type": "raw",
   "metadata": {},
   "source": [
    "$ git checkout master\n",
    "$ git merge hotfix"
   ]
  },
  {
   "cell_type": "markdown",
   "metadata": {},
   "source": [
    "\n",
    "    A---B---C --- E hotfix(master*)\n",
    "             \\\n",
    "              D issue1"
   ]
  },
  {
   "cell_type": "markdown",
   "metadata": {},
   "source": [
    "After Fast Forward Merge, two branches points at the same place, so we can delete hotfix branch since we don't need it anymore."
   ]
  },
  {
   "cell_type": "raw",
   "metadata": {},
   "source": [
    "$ git branch -d hotfix"
   ]
  },
  {
   "cell_type": "markdown",
   "metadata": {},
   "source": [
    "\n",
    "    A---B---C --- E master*\n",
    "             \\\n",
    "              D issue1"
   ]
  },
  {
   "cell_type": "markdown",
   "metadata": {},
   "source": [
    "## 2. Recursive Merge(True Merge)"
   ]
  },
  {
   "cell_type": "markdown",
   "metadata": {},
   "source": [
    "### 2.1 branching and commit history"
   ]
  },
  {
   "cell_type": "markdown",
   "metadata": {},
   "source": [
    "Now lets switch back to your work-in-progress branch on issue1 branches and continue working on it. We made a new commit, E."
   ]
  },
  {
   "cell_type": "raw",
   "metadata": {},
   "source": [
    "$ git checkout issue1"
   ]
  },
  {
   "cell_type": "raw",
   "metadata": {},
   "source": [
    "$ git commit -a -m 'finished some new bugs'"
   ]
  },
  {
   "cell_type": "raw",
   "metadata": {},
   "source": [
    "$ git tag -a F -m \"issue1 fixed\""
   ]
  },
  {
   "cell_type": "markdown",
   "metadata": {},
   "source": [
    "\n",
    "    A---B---C --- E master*\n",
    "             \\\n",
    "              D ---F issue1"
   ]
  },
  {
   "cell_type": "markdown",
   "metadata": {},
   "source": [
    "Now we decide that the issue1 work is complete and ready to be merged into your master branch. The steps you need to do is the same as Fast Forward merge. We first need to checkout check out the branch you wish to merge into(master), and then run the git merge command:"
   ]
  },
  {
   "cell_type": "raw",
   "metadata": {},
   "source": [
    "$ git checkout master\n",
    "$ git merge issue1"
   ]
  },
  {
   "cell_type": "markdown",
   "metadata": {},
   "source": [
    "\n",
    "    A---B---C---E--- G  master*\n",
    "             \\      /\n",
    "              D ---F  issue1"
   ]
  },
  {
   "cell_type": "markdown",
   "metadata": {},
   "source": [
    "### 2.2 Recursive Merge"
   ]
  },
  {
   "cell_type": "markdown",
   "metadata": {},
   "source": [
    "Although the steps need to to do the recursive merege are the same as fast-forward merge, what git has done behind the scene are different. \n",
    "- The branches to be merged are from two different brances.\n",
    "- The branches to be merged in Recursive Merge must be tied together by a new merge commit that has both of them as its parents."
   ]
  },
  {
   "cell_type": "markdown",
   "metadata": {},
   "source": [
    "## 3.  Merge Confilicts"
   ]
  },
  {
   "cell_type": "markdown",
   "metadata": {},
   "source": [
    "Occasionally, this process doesn’t go smoothly. If you changed the same part of the same file differently in the two branches you’re merging together, Git won’t be able to merge them cleanly, instead you will get a merge conflict."
   ]
  },
  {
   "cell_type": "markdown",
   "metadata": {},
   "source": [
    "When conflict happens, the merge process will be paused, and will not automatically created a new merge commit until you resolve the conflict. So the next steps are:\n",
    "- use file editor such as Vim, or run git mergetool to fire up an appropriate visual merge tool to solve conflict\n",
    "- stage the fixed file and commit the merge. "
   ]
  }
 ],
 "metadata": {
  "kernelspec": {
   "display_name": "Python 3",
   "language": "python",
   "name": "python3"
  },
  "language_info": {
   "codemirror_mode": {
    "name": "ipython",
    "version": 3
   },
   "file_extension": ".py",
   "mimetype": "text/x-python",
   "name": "python",
   "nbconvert_exporter": "python",
   "pygments_lexer": "ipython3",
   "version": "3.5.1"
  },
  "latex_envs": {
   "bibliofile": "biblio.bib",
   "cite_by": "apalike",
   "current_citInitial": 1,
   "eqLabelWithNumbers": true,
   "eqNumInitial": 0
  }
 },
 "nbformat": 4,
 "nbformat_minor": 0
}
