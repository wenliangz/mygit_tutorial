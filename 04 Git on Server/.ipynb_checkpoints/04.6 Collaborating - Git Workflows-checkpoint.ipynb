{
 "cells": [
  {
   "cell_type": "markdown",
   "metadata": {},
   "source": [
    "# Collaborating - Git Workflows"
   ]
  },
  {
   "cell_type": "markdown",
   "metadata": {},
   "source": [
    "The Git Workflows are the collaboration models on how each local repository are communicating "
   ]
  },
  {
   "cell_type": "markdown",
   "metadata": {},
   "source": [
    "## 1. Centralized Workflows:"
   ]
  },
  {
   "cell_type": "markdown",
   "metadata": {},
   "source": [
    "<img  src=\"B2W85B67379EM7F3ANY049SA2BF9FM81.png\"/>"
   ]
  },
  {
   "cell_type": "markdown",
   "metadata": {},
   "source": [
    "### 1.1 Feature Branch Workflow"
   ]
  },
  {
   "cell_type": "markdown",
   "metadata": {},
   "source": [
    "**Feature Branch Workflow**:  feature branches are a way to quite literally multiply the functionality of the single master branch used in the Centralized Workflow. \n"
   ]
  },
  {
   "cell_type": "markdown",
   "metadata": {},
   "source": [
    "<img  src=\"D98I7OD421EUQ3IHVMR9BJTBV5W2KM8I.png\"/>"
   ]
  },
  {
   "cell_type": "markdown",
   "metadata": {},
   "source": [
    "In this model, all developers are the same beside they are responsible for developing their own feature branch. In theory they all can push to the center master branch just like in Centralized Workflows. However, in order to promote the code discussion and review process, it is a good idea to restrict the priviledge to a designate person, who can only push features to the center master branch to integrate features into the main project. This person is always called integration manager, or lieutenant. And all other person can make a pull requests to the integration manager for review or discussion before actual integration happens. \n",
    "\n",
    "The third party Git server provider, such as Bitbucket, provide the **pull request** feature to makes the process easier for developers to collaborate. It provides a user-friendly web interface for discussing proposed changes before integrating them into the official project. They may also provide functions to restrict **branch permissions** to control who can commit to specific branches in a given repository, in order to **enforce the workflow**."
   ]
  },
  {
   "cell_type": "markdown",
   "metadata": {},
   "source": [
    "### 1.2  Gitflow Workflow"
   ]
  },
  {
   "cell_type": "markdown",
   "metadata": {},
   "source": [
    "The Gitflow Workflow defines a strict branching model, designed around the project release instead of specific features in Feature Branch Workflow."
   ]
  },
  {
   "cell_type": "markdown",
   "metadata": {},
   "source": [
    "This workflow doesn’t add any new concepts or commands beyond what’s required for the Feature Branch Workflow. Instead, it assigns very specific roles to different branches and defines how and when they should interact. In addition to feature branches, it uses individual branches for preparing, maintaining, and recording releases. Of course, you also get to leverage all the benefits of the Feature Branch Workflow: pull requests, isolated experiments, and more efficient collaboration."
   ]
  },
  {
   "cell_type": "markdown",
   "metadata": {},
   "source": [
    "<img  src=\"OWR0P1MRBW9ICBDTR4WND3O782X7NARP.png\"/>"
   ]
  },
  {
   "cell_type": "markdown",
   "metadata": {},
   "source": [
    "## 2. Distributed Workflows:"
   ]
  },
  {
   "cell_type": "markdown",
   "metadata": {},
   "source": [
    "Frequently, in a distributed team, each developer has write access to their own public repository and they have read access to everyone else’s. There is also a dedicated repository, the blessed repository, which contains the \"reference\" version of the project source code. To contribute to this, developers create their own public clone of the project and push their changes to those. Then, they request one or more maintainers of the blessed repository to pull in their changes."
   ]
  },
  {
   "cell_type": "markdown",
   "metadata": {},
   "source": [
    "<img  src=\"A76M0IYWVB815RTXHTFYHNK8PC3VXY2G.png\"/>"
   ]
  },
  {
   "cell_type": "markdown",
   "metadata": {},
   "source": [
    "### 2.1 Forking Workflow"
   ]
  },
  {
   "cell_type": "markdown",
   "metadata": {},
   "source": [
    "<img  src=\"GSTUIGQ45BF0JI5TTS900GFOBH1XT6S4.png\"/>"
   ]
  },
  {
   "cell_type": "markdown",
   "metadata": {},
   "source": [
    "Instead of using a single server-side repository to act as the “central” codebase, Forking Workflow gives every developer a server-side repository. By **forking a repository**, every developer creates a copy of the official repository(blessed repository). This new copy serves as their own public repository on the server, no other developers are allowed to push to it, but pull changes from it. After they have created their server-side copy, the developer then performs a git clone to get a copy of it onto their local machine. \n",
    "- They push the commit to their own public repository—not the official one. \n",
    "- Then, they **file a pull request** with the main repository, which lets the project maintainer know that an update is ready to be integrated."
   ]
  },
  {
   "cell_type": "markdown",
   "metadata": {},
   "source": [
    "The main advantage of the Forking Workflow:\n",
    "- Contributions can be integrated without the need for everybody to push to a single central repository. \n",
    "- Developers push to their own server-side repositories, and only the project maintainer can push to the official repository, which allows the maintainer to accept commits from any developer without giving them write access to the official codebase."
   ]
  },
  {
   "cell_type": "markdown",
   "metadata": {},
   "source": [
    "#### Note the difference between fork and clone:\n",
    "- **A fork** is a remote, server-side copy of a repository, distinct from the original. \n",
    "- **A clone** is not a fork; a clone is a local copy of some remote repository. "
   ]
  },
  {
   "cell_type": "markdown",
   "metadata": {},
   "source": [
    "#### The Official Repository(blessed repository):"
   ]
  },
  {
   "cell_type": "markdown",
   "metadata": {},
   "source": [
    "The “official” repository in the Forking Workflow is merely a convention. From a technical standpoint, Git doesn’t see any difference between each developer’s public repository and the official one. They are exactly the same. In fact, the only thing that makes the official repository so official is that it’s the public repository of the project maintainer. Any of the other developer's public repository could be designated as the new “official” repository maintained by a new project maintainer. This creates a more stable development environment in case the lead developer stops maintaining."
   ]
  },
  {
   "cell_type": "markdown",
   "metadata": {},
   "source": [
    "## 3. Pull Request"
   ]
  },
  {
   "cell_type": "markdown",
   "metadata": {},
   "source": [
    "Either Centralized or Distributed Workflows, can have multiple developers for contributing to one official project. The project maintainer will have to integrate codes from different developers into the official project. \n",
    "\n",
    "In order to enforce the workflow and promote collaborations between developers. **Pull requests** are developed by Third Party Git server provider to makes it easier for developers to collaborate. It provides a user-friendly web interface for discussing proposed changes before integrating them into the official project."
   ]
  },
  {
   "cell_type": "markdown",
   "metadata": {},
   "source": [
    "A pull request requires either two distinct branches (the Feature Branch Workflow or the Gitflow Workflow in Centralized Workflow) or two distinct repositories (the Forkong Workflow in Distributed Workflow) \n"
   ]
  },
  {
   "cell_type": "markdown",
   "metadata": {},
   "source": [
    "### Feature Branch Workflow With Pull Requests"
   ]
  },
  {
   "cell_type": "markdown",
   "metadata": {},
   "source": [
    "The Feature Branch Workflow uses a shared Bitbucket repository for managing collaboration, and developers create features in isolated branches. But, instead of immediately merging them into master, developers should open a pull request to initiate a discussion around the feature before it gets integrated into the main codebase."
   ]
  },
  {
   "cell_type": "markdown",
   "metadata": {},
   "source": [
    "<img  src=\"B6DYC014I6SLUE590PRW719D9NBVR8XG.png\"/>"
   ]
  },
  {
   "cell_type": "markdown",
   "metadata": {},
   "source": [
    "### Gitflow Workflow With Pull Requests"
   ]
  },
  {
   "cell_type": "markdown",
   "metadata": {},
   "source": [
    "The Gitflow Workflow is similar to the Feature Branch Workflow, but defines a strict branching model designed around the project release. Adding pull requests to the Gitflow Workflow gives developers a convenient place to talk about a release branch or a maintenance branch while they’re working on it."
   ]
  },
  {
   "cell_type": "markdown",
   "metadata": {},
   "source": [
    "<img  src=\"KFJ0V8TJMJ39ILDFA92DRN5WX7IHHY2A.png\"/>"
   ]
  },
  {
   "cell_type": "markdown",
   "metadata": {},
   "source": [
    "### Forking Workflow With Pull Requests"
   ]
  },
  {
   "cell_type": "markdown",
   "metadata": {},
   "source": [
    "between developer and project maintainer"
   ]
  },
  {
   "cell_type": "markdown",
   "metadata": {},
   "source": [
    "<img  src=\"WN6IWRJC3S2DF53JFE0DAFRCH50D0OAK.png\"/>"
   ]
  },
  {
   "cell_type": "markdown",
   "metadata": {},
   "source": [
    "collaborate with other developers "
   ]
  },
  {
   "cell_type": "markdown",
   "metadata": {},
   "source": [
    "<img  src=\"P3A1Q2GPE9XIIXO1YG97OGD8WDL5DXLV.png\"/>"
   ]
  }
 ],
 "metadata": {
  "kernelspec": {
   "display_name": "Python 3",
   "language": "python",
   "name": "python3"
  },
  "language_info": {
   "codemirror_mode": {
    "name": "ipython",
    "version": 3
   },
   "file_extension": ".py",
   "mimetype": "text/x-python",
   "name": "python",
   "nbconvert_exporter": "python",
   "pygments_lexer": "ipython3",
   "version": "3.5.2"
  },
  "latex_envs": {
   "bibliofile": "biblio.bib",
   "cite_by": "apalike",
   "current_citInitial": 1,
   "eqLabelWithNumbers": true,
   "eqNumInitial": 0
  }
 },
 "nbformat": 4,
 "nbformat_minor": 0
}
