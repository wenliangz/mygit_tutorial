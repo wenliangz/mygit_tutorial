{
 "cells": [
  {
   "cell_type": "markdown",
   "metadata": {},
   "source": [
    "# Setup Your Own Git Server"
   ]
  },
  {
   "cell_type": "markdown",
   "metadata": {},
   "source": [
    "## 1. Setup your own Git server"
   ]
  },
  {
   "cell_type": "markdown",
   "metadata": {},
   "source": [
    "To run a simple useful Git server of your own, all you need are: \n",
    "- an SSH server\n",
    "- a bare repository\n",
    "\n",
    "Just add SSH-able accounts on a server, and stick a bare repository somewhere that all those users have read and write access to. You’re ready to go – nothing else needed."
   ]
  },
  {
   "cell_type": "markdown",
   "metadata": {},
   "source": [
    "The simple Git server is easy to setup. However, the more sophisticated setups include:\n",
    "- This discussion will include not having to create user accounts for each user, \n",
    "- adding public read access to repositories, \n",
    "- setting up web UIs and more."
   ]
  },
  {
   "cell_type": "markdown",
   "metadata": {},
   "source": [
    "### 1.1 setup a bare Git repository"
   ]
  },
  {
   "cell_type": "markdown",
   "metadata": {},
   "source": [
    "A remote repository is generally a bare repository – a Git repository that has no working directory. Because the repository is only used as a collaboration point, there is no reason to have a snapshot checked out on disk; it’s just the Git data. In the simplest terms, a bare repository is the contents of your project’s .git directory and nothing else."
   ]
  },
  {
   "cell_type": "markdown",
   "metadata": {},
   "source": [
    "In order to initially set up any Git server, you have to export an existing repository into a new bare repository – a repository that doesn’t contain a working directory. You can run the clone command with the --bare option. By convention, bare repository directories end in .git"
   ]
  },
  {
   "cell_type": "raw",
   "metadata": {},
   "source": [
    "$ git clone --bare my_project my_project.git\n",
    "Cloning into bare repository 'my_project.git'...\n",
    "done."
   ]
  },
  {
   "cell_type": "markdown",
   "metadata": {},
   "source": [
    "You should now have a copy of the Git directory data in your my_project.git directory. This is roughly equivalent to something like"
   ]
  },
  {
   "cell_type": "raw",
   "metadata": {},
   "source": [
    "$ cp -Rf my_project/.git my_project.git"
   ]
  },
  {
   "cell_type": "markdown",
   "metadata": {},
   "source": [
    "### 1.2 Putting the Bare Repository on a Server"
   ]
  },
  {
   "cell_type": "markdown",
   "metadata": {},
   "source": [
    "Now we need to put the bare repository on a server and set up your protocols. Assume \n",
    "- you’ve set up a web server called git.example.com\n",
    "- you have SSH access to the server\n",
    "- and you want to store all your Git repositories under the /srv/git directory"
   ]
  },
  {
   "cell_type": "raw",
   "metadata": {},
   "source": [
    "$ scp -r my_project.git user@git.example.com:/srv/git"
   ]
  },
  {
   "cell_type": "markdown",
   "metadata": {},
   "source": [
    "Git will automatically add group write permissions to a repository properly if you run the git init command with the --shared option."
   ]
  },
  {
   "cell_type": "raw",
   "metadata": {},
   "source": [
    "$ ssh user@git.example.com\n",
    "$ cd /srv/git/my_project.git\n",
    "$ git init --bare --shared"
   ]
  }
 ],
 "metadata": {
  "kernelspec": {
   "display_name": "Python 3",
   "language": "python",
   "name": "python3"
  },
  "language_info": {
   "codemirror_mode": {
    "name": "ipython",
    "version": 3
   },
   "file_extension": ".py",
   "mimetype": "text/x-python",
   "name": "python",
   "nbconvert_exporter": "python",
   "pygments_lexer": "ipython3",
   "version": "3.5.2"
  },
  "latex_envs": {
   "bibliofile": "biblio.bib",
   "cite_by": "apalike",
   "current_citInitial": 1,
   "eqLabelWithNumbers": true,
   "eqNumInitial": 0
  }
 },
 "nbformat": 4,
 "nbformat_minor": 0
}
