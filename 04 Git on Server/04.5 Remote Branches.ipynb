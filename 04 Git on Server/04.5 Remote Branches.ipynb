{
 "cells": [
  {
   "cell_type": "markdown",
   "metadata": {},
   "source": [
    "# Remote Branches"
   ]
  },
  {
   "cell_type": "markdown",
   "metadata": {},
   "source": [
    "## 1. Remote Branches (Remote-tracking Branches)"
   ]
  },
  {
   "cell_type": "markdown",
   "metadata": {},
   "source": [
    "### 1.1 Understanding Remote Branches"
   ]
  },
  {
   "cell_type": "markdown",
   "metadata": {},
   "source": [
    "**Remote Branches**(Remote-tracking branches) are the local braches that are referencing to the remote branches on the remote sever. Do not be fooled by the name! The remote branches exist locally within your local repository. More accurately speaking, they are **Remote-tracking Branches**!\n",
    "- Remote branches are just like local branches, except they represent commits from somebody else’s repository.\n",
    "- Remote branches take the form of **[remote name/branch]** with remote name as the prefix, so that you don’t mix them up with local branches.\n",
    "- they represent **the last communication** between your local repository and the remote repository\n",
    "- They’re **local references** that you **can’t move**; they’re **moved automatically** for you whenever you **do any network communication**. Because Git uses remote branches internally to keep your repository in-sync, you cannot manually merge or commit changes onto a remote branch as it will become out-of-sync with the branch in the original repository it is meant to be tracking\n",
    "- Remote-tracking branches act as bookmarks to remind you where the branches in your remote repositories were the last time you connected to them."
   ]
  },
  {
   "cell_type": "markdown",
   "metadata": {},
   "source": [
    "The local remote-trancking branches aren’t automatically synchronized to the remotes. You have to explicitly communicate the remote by pushing push the branches you want to share or pulling(fetch/merge) what changes other developer may have made in the remote.  That way, every developer can have his local private branches for work you don’t want to share, and push up only the topic branches you want to collaborate on."
   ]
  },
  {
   "cell_type": "markdown",
   "metadata": {},
   "source": [
    "### 1.1 View Remote Branches"
   ]
  },
  {
   "cell_type": "markdown",
   "metadata": {},
   "source": [
    "List all of the branches in your repository."
   ]
  },
  {
   "cell_type": "raw",
   "metadata": {},
   "source": [
    "$ git branch"
   ]
  },
  {
   "cell_type": "markdown",
   "metadata": {},
   "source": [
    "#### To View the remote-tracking branches:"
   ]
  },
  {
   "cell_type": "markdown",
   "metadata": {},
   "source": [
    " To view your remote branches, simply pass the -r flag to the git branch command.\n"
   ]
  },
  {
   "cell_type": "raw",
   "metadata": {},
   "source": [
    "$ git branch -r\n",
    "\n",
    "# origin/master\n",
    "# origin/develop\n",
    "# origin/some-feature"
   ]
  },
  {
   "cell_type": "markdown",
   "metadata": {},
   "source": [
    "#### To view the relationship between local branches and remote-tracking braches:"
   ]
  },
  {
   "cell_type": "markdown",
   "metadata": {},
   "source": [
    "If you want to see what tracking branches you have set up, you can use the -vv option to git branch. "
   ]
  },
  {
   "cell_type": "raw",
   "metadata": {},
   "source": [
    "$ git branch -vv\n",
    "\n",
    "  iss53     7e424c3 [origin/iss53: ahead 2] forgot the brackets\n",
    "  master    1ae2a45 [origin/master] deploying index fix\n",
    "* serverfix f8674d9 [teamone/server-fix-good: ahead 3, behind 1] this should do it\n",
    "  testing   5ea463a trying something new"
   ]
  },
  {
   "cell_type": "markdown",
   "metadata": {},
   "source": [
    "## 2. Create new local remote-tracking branches"
   ]
  },
  {
   "cell_type": "markdown",
   "metadata": {},
   "source": [
    "### 2.1 Automatically checkout"
   ]
  },
  {
   "cell_type": "markdown",
   "metadata": {},
   "source": [
    "#### Automatic remote-tracking branches :"
   ]
  },
  {
   "cell_type": "markdown",
   "metadata": {},
   "source": [
    "When you start a new local repository by running \"git init \", add a remote repository, called origin by convention, and push local repository to the remote. Or when you clone a repository, it generally automatically creates two branches:"
   ]
  },
  {
   "cell_type": "markdown",
   "metadata": {},
   "source": [
    "- Creates a **Remote-tracking branch** named **origin/master** by default, for tracking the master branch on the remote server. The master branch on the remote is also called, **upstream branch.** This branch is \"read-only\" to the local user and is updated only from the remote repository.\n",
    "- Create a local **master branch** by default and copy the contents of the remote-tracking branch,origin/master, to the master branch. This local master branch can be modified by user and will move with local commit."
   ]
  },
  {
   "cell_type": "markdown",
   "metadata": {},
   "source": [
    "<img  src=\"../figs/I3OY9H5T2LK95RCWV2JMHET24IMDAM4Q.png\"/>"
   ]
  },
  {
   "cell_type": "markdown",
   "metadata": {},
   "source": [
    "### 2.2 Manually checkout"
   ]
  },
  {
   "cell_type": "markdown",
   "metadata": {},
   "source": [
    "#### Manually set up remote-tracking branches in local repository:(manually define a relationship)"
   ]
  },
  {
   "cell_type": "markdown",
   "metadata": {},
   "source": [
    "- To set up a local tracking branch with a different name than the remote branch:"
   ]
  },
  {
   "cell_type": "raw",
   "metadata": {},
   "source": [
    "$ git checkout -b [local remote-tracking branch] [remotename]/[branch]"
   ]
  },
  {
   "cell_type": "markdown",
   "metadata": {},
   "source": [
    "for example:"
   ]
  },
  {
   "cell_type": "raw",
   "metadata": {},
   "source": [
    "$ git checkout -b sf origin/serverfix\n",
    "Branch sf set up to track remote branch serverfix from origin.\n",
    "Switched to a new branch 'sf'"
   ]
  },
  {
   "cell_type": "markdown",
   "metadata": {},
   "source": [
    "- A shortcut for tracking remote branches:"
   ]
  },
  {
   "cell_type": "raw",
   "metadata": {},
   "source": [
    "$ git checkout --track origin/serverfix\n",
    "\n",
    "Branch serverfix set up to track remote branch serverfix from origin.\n",
    "Switched to a new branch 'serverfix'"
   ]
  },
  {
   "cell_type": "markdown",
   "metadata": {},
   "source": [
    "- There’s even a shortcut for that shortcut if the branch name you’re trying to checkout\n",
    "    - (a) doesn’t exist and \n",
    "    - (b) exactly matches a name on only one remote\n",
    "\n",
    "Git will create a tracking branch for you:"
   ]
  },
  {
   "cell_type": "raw",
   "metadata": {},
   "source": [
    "$ git checkout serverfix\n",
    "\n",
    "Branch serverfix set up to track remote branch serverfix from origin.\n",
    "Switched to a new branch 'serverfix'"
   ]
  },
  {
   "cell_type": "markdown",
   "metadata": {},
   "source": [
    "If you already have a local branch and want to set it to a remote branch you just pulled down, or want to change the upstream branch you’re tracking, you can use the -u or --set-upstream-to option to git branch to explicitly set it at any time."
   ]
  },
  {
   "cell_type": "raw",
   "metadata": {},
   "source": [
    "$ git branch -u origin/serverfix\n",
    "\n",
    "Branch serverfix set up to track remote branch serverfix from origin."
   ]
  },
  {
   "cell_type": "markdown",
   "metadata": {},
   "source": [
    "## 3. Update local repository from Remotes: fetch/merge and pull"
   ]
  },
  {
   "cell_type": "markdown",
   "metadata": {},
   "source": [
    "### 3.1 Fetch from Remotes"
   ]
  },
  {
   "cell_type": "markdown",
   "metadata": {},
   "source": [
    "To synchronize your work, you run a git fetch origin command. This command looks up which server “origin” is (in this case, it’s git.ourcompany.com), fetches any data from it that you don’t yet have, and updates your local database, moving your origin/master pointer to its new, more up-to-date position."
   ]
  },
  {
   "cell_type": "raw",
   "metadata": {},
   "source": [
    "$ git fetch [remote] [branch]"
   ]
  },
  {
   "cell_type": "markdown",
   "metadata": {},
   "source": [
    "- Updates local remote-tracking branches with changes from the remote repository\n",
    "- This will not automatically merge change with local. Use this when you want to test or investigate changes before merging into your own code\n",
    "- Defaults to fetching all changes from all remotes. [remote]/[branch]specifies to only update form the specified remote/ branch"
   ]
  },
  {
   "cell_type": "markdown",
   "metadata": {},
   "source": [
    "After you intial push or clone, you may start to do some work on your local master branch, and in the meantime, someone else may pushe their changes to the remote and update the master branch on the server. The commit history may look like this if you have not synchronize the remote."
   ]
  },
  {
   "cell_type": "markdown",
   "metadata": {},
   "source": [
    "<img  src=\"../figs/CPDWXKHUSBM9T14BY19GQPD00GP2UGY5.png\"/>"
   ]
  },
  {
   "cell_type": "markdown",
   "metadata": {},
   "source": [
    "For example, to fetch all branches from origin remote:"
   ]
  },
  {
   "cell_type": "raw",
   "metadata": {},
   "source": [
    "$ git fetch origin "
   ]
  },
  {
   "cell_type": "markdown",
   "metadata": {},
   "source": [
    "<img  src=\"../figs/L1VBYK615SN4DC9J9QDYJKSAERH5DKXD.png\"/>"
   ]
  },
  {
   "cell_type": "markdown",
   "metadata": {},
   "source": [
    "While the git fetch command will fetch down all the changes on the server that you don’t have yet, it will not modify your working directory at all. It will simply get the data for you and let you merge it yourself. This give you the chance to inspect these branches with the usual git checkout and git log commands. If you approve the changes a remote branch contains, you can merge it into a local branch with a normal git merge."
   ]
  },
  {
   "cell_type": "markdown",
   "metadata": {},
   "source": [
    "To see what commits have been added to the upstream master, you can run a git log using origin/master as a filter:"
   ]
  },
  {
   "cell_type": "raw",
   "metadata": {},
   "source": [
    "$ git log --oneline master..origin/master"
   ]
  },
  {
   "cell_type": "markdown",
   "metadata": {},
   "source": [
    "To merge it manually:"
   ]
  },
  {
   "cell_type": "markdown",
   "metadata": {},
   "source": [
    "$ git checkout master\n",
    "$ git log origin/master\n",
    "$ git merge origin/master"
   ]
  },
  {
   "cell_type": "markdown",
   "metadata": {},
   "source": [
    "### 3.2 Pull from Remotes"
   ]
  },
  {
   "cell_type": "raw",
   "metadata": {},
   "source": [
    "$ git pull [remote] [branch]"
   ]
  },
  {
   "cell_type": "markdown",
   "metadata": {},
   "source": [
    "Fetch the specified remote’s copy and immediately merge it into the local copy. This is the same as:\n",
    "\n",
    "git fetch [remote] followed by git merge origin/[current-branch]."
   ]
  },
  {
   "cell_type": "markdown",
   "metadata": {},
   "source": [
    "- Updates local remote-tracking branches with changes from the remote repository and merge into active branch\n",
    "- Defaults to origin when no options are provided and assumes branches of a matching name, but can be se up to default to branch specified by configuration(created automatically by checkout -b). \n",
    "- [remote]/[branch]specifies to only update form the specified remote/ branch"
   ]
  },
  {
   "cell_type": "markdown",
   "metadata": {},
   "source": [
    "<img  src=\"../figs/C7MOBDF68C373XF6N2090UKBL18VRPQL.png\"/>"
   ]
  },
  {
   "cell_type": "markdown",
   "metadata": {},
   "source": [
    "## 4. Update remote repository with local: push"
   ]
  },
  {
   "cell_type": "markdown",
   "metadata": {},
   "source": [
    "After you’ve accumulated several local commits and are ready to share them with the rest of the team, you need to push it up to a remote that you have write access to. Your local branches aren’t automatically synchronized to the remotes you write to – you have to explicitly push the branches you want to share. That way, you can use private branches for work you don’t want to share, and push up only the topic branches you want to collaborate on."
   ]
  },
  {
   "cell_type": "markdown",
   "metadata": {},
   "source": [
    "Pushing is how you transfer commits from your local repository to a remote repo. It's the counterpart to git fetch/merge, but whereas fetching imports commits to local branches, pushing exports commits to remote branches."
   ]
  },
  {
   "cell_type": "raw",
   "metadata": {},
   "source": [
    "$ git push [remote] [branch]"
   ]
  },
  {
   "cell_type": "markdown",
   "metadata": {},
   "source": [
    "- Updates remote repository with your own changes\n",
    "- Defaults to use **upstream relationship**. If no upstream branch is set, the command will fail.\n",
    "- [remote]/[branch]specifies to only update form the specified remote/ branch\n",
    "- push will fail if\n",
    "    - [remote] contains changes not present in local repo\n",
    "    - [branch] is currently checked out by the owner of [remote]"
   ]
  },
  {
   "cell_type": "markdown",
   "metadata": {},
   "source": [
    "Push all of your local branches to the specified remote."
   ]
  },
  {
   "cell_type": "raw",
   "metadata": {},
   "source": [
    "$ git push <remote> --all"
   ]
  },
  {
   "cell_type": "markdown",
   "metadata": {},
   "source": [
    "Tags are not automatically pushed when you push a branch or use the --all option. The --tags flag sends all of your local tags to the remote repository."
   ]
  },
  {
   "cell_type": "raw",
   "metadata": {},
   "source": [
    "$ git push <remote> --tags"
   ]
  },
  {
   "cell_type": "markdown",
   "metadata": {},
   "source": [
    "### 4.1 Push resulting fast-forward merge on the central remote repository:"
   ]
  },
  {
   "cell_type": "markdown",
   "metadata": {},
   "source": [
    "When your local master has progressed past the central repository’s master and you publish changes by running \"git push origin master\". Notice in this case, git push is essentially the same as running git pull(git fetch and git merge master) from inside the remote repository."
   ]
  },
  {
   "cell_type": "raw",
   "metadata": {},
   "source": [
    "$ git push origin master"
   ]
  },
  {
   "cell_type": "markdown",
   "metadata": {},
   "source": [
    "<img  src=\"../figs/F98OAQ9PJFI0UMD14T6YQUF8RW7CF1BS.png\"/>"
   ]
  },
  {
   "cell_type": "markdown",
   "metadata": {},
   "source": [
    "### 4.2 Push resulting non-fast-forward merge on remote:"
   ]
  },
  {
   "cell_type": "markdown",
   "metadata": {},
   "source": [
    "To prevent you from overwriting commits, **Git won’t let you push** when it results in a **non-fast-forward merge** in the central destination repository. \n",
    "- You can pull the remote branch and merge it into your local one, then try pushing again. (This is how **pull requests** are important and come into place in multi-developer environment.) \n",
    "- But you can use --force option to force the push even if it results in a non-fast-forward merge."
   ]
  },
  {
   "cell_type": "markdown",
   "metadata": {},
   "source": [
    "#### NOTE:"
   ]
  },
  {
   "cell_type": "markdown",
   "metadata": {},
   "source": [
    "The --force flag overrides this behavior and makes the remote repository’s branch match your local one, deleting any upstream changes that may have occurred since you last pulled. The only time you should ever need to force push is when you realize that the commits you just shared were not quite right and you fixed them with a git commit --amend or an interactive rebase. However, you must be absolutely certain that none of your teammates have pulled those commits before using the --force option."
   ]
  },
  {
   "cell_type": "markdown",
   "metadata": {},
   "source": [
    "You can also use --force option to force push over the old commit after you change the commit message by rebasing."
   ]
  },
  {
   "cell_type": "raw",
   "metadata": {},
   "source": [
    "$ git push <remote> --force"
   ]
  },
  {
   "cell_type": "markdown",
   "metadata": {},
   "source": [
    "#### Another example:"
   ]
  },
  {
   "cell_type": "markdown",
   "metadata": {},
   "source": [
    "If you have a branch named serverfix that you want to work on with others, you can push it up to the remote by making it the remote’s serverfix.:"
   ]
  },
  {
   "cell_type": "raw",
   "metadata": {},
   "source": [
    "$ git push origin serverfix"
   ]
  },
  {
   "cell_type": "markdown",
   "metadata": {},
   "source": [
    "You can use this format to push a local branch into a remote branch that is named differently. For example, to push your local serverfix branch to the awesomebranch branch on the remote project."
   ]
  },
  {
   "cell_type": "raw",
   "metadata": {},
   "source": [
    "git push origin serverfix:awesomebranch "
   ]
  },
  {
   "cell_type": "markdown",
   "metadata": {},
   "source": [
    "## 5. Deleting Remote Branches"
   ]
  },
  {
   "cell_type": "markdown",
   "metadata": {},
   "source": [
    "You can delete a local git branch using:"
   ]
  },
  {
   "cell_type": "raw",
   "metadata": {},
   "source": [
    "$ git branch -d [branch_name]"
   ]
  },
  {
   "cell_type": "markdown",
   "metadata": {},
   "source": [
    "As of Git v1.7.0, you can delete a remote branch using:"
   ]
  },
  {
   "cell_type": "raw",
   "metadata": {},
   "source": [
    "$ git push origin --delete <branchName>"
   ]
  }
 ],
 "metadata": {
  "kernelspec": {
   "display_name": "Python 3",
   "language": "python",
   "name": "python3"
  },
  "language_info": {
   "codemirror_mode": {
    "name": "ipython",
    "version": 3
   },
   "file_extension": ".py",
   "mimetype": "text/x-python",
   "name": "python",
   "nbconvert_exporter": "python",
   "pygments_lexer": "ipython3",
   "version": "3.5.2"
  },
  "latex_envs": {
   "bibliofile": "biblio.bib",
   "cite_by": "apalike",
   "current_citInitial": 1,
   "eqLabelWithNumbers": true,
   "eqNumInitial": 0
  }
 },
 "nbformat": 4,
 "nbformat_minor": 0
}
