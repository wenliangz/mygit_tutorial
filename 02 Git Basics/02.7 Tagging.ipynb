{
 "cells": [
  {
   "cell_type": "markdown",
   "metadata": {},
   "source": [
    "# Tagging"
   ]
  },
  {
   "cell_type": "markdown",
   "metadata": {},
   "source": [
    "Tag is a pointer to a specific commit(snapshot), to give it a name and save meta data about the commit, so we can refer to it easily. It is very much like a branch that doesn’t move."
   ]
  },
  {
   "cell_type": "markdown",
   "metadata": {},
   "source": [
    "Two main types of tags: lightweight and annotated.\n",
    "\n",
    "- **A lightweight tag** is very much like a branch that doesn’t change – it’s just a pointer to a specific commit.\n",
    "\n",
    "- **Annotated tags**, however, are stored as full objects in the Git database. They’re checksummed; contain the tagger name, email, and date; have a tagging message; and can be signed and verified with GNU Privacy Guard (GPG). \n"
   ]
  },
  {
   "cell_type": "markdown",
   "metadata": {},
   "source": [
    "\n",
    "It’s generally recommended that you create annotated tags so you can have all this information; but if you want a temporary tag or for some reason don’t want to keep the other information, lightweight tags are available too."
   ]
  },
  {
   "cell_type": "markdown",
   "metadata": {},
   "source": [
    "## 1. List  and Show Tags"
   ]
  },
  {
   "cell_type": "markdown",
   "metadata": {},
   "source": [
    "#### List the tags only"
   ]
  },
  {
   "cell_type": "raw",
   "metadata": {},
   "source": [
    "$ git tag"
   ]
  },
  {
   "cell_type": "markdown",
   "metadata": {},
   "source": [
    "#### Search tag"
   ]
  },
  {
   "cell_type": "markdown",
   "metadata": {},
   "source": [
    "This command lists the tags in alphabetical order.You can also search for tags with a particular pattern by running -l option."
   ]
  },
  {
   "cell_type": "raw",
   "metadata": {},
   "source": [
    "$ git tag -l \"v1.8.5*\""
   ]
  },
  {
   "cell_type": "markdown",
   "metadata": {},
   "source": [
    "#### Show tag data along with tag"
   ]
  },
  {
   "cell_type": "markdown",
   "metadata": {},
   "source": [
    "See the tag data along with the commit that was tagged by using the git show command:"
   ]
  },
  {
   "cell_type": "raw",
   "metadata": {},
   "source": [
    "git show v1.2"
   ]
  },
  {
   "cell_type": "markdown",
   "metadata": {},
   "source": [
    "## 2. Creating Tags"
   ]
  },
  {
   "cell_type": "markdown",
   "metadata": {},
   "source": [
    "### 2.1 Create a tag for your current commit"
   ]
  },
  {
   "cell_type": "markdown",
   "metadata": {},
   "source": [
    "### create lightweight tag"
   ]
  },
  {
   "cell_type": "raw",
   "metadata": {},
   "source": [
    "$ git tag v1.4"
   ]
  },
  {
   "cell_type": "markdown",
   "metadata": {},
   "source": [
    "### create annotated tag"
   ]
  },
  {
   "cell_type": "markdown",
   "metadata": {},
   "source": [
    "To create annotated tags, supply the -a, -s, or -m option before the tag. This is basically the commit checksum stored in a file – no other information is kept."
   ]
  },
  {
   "cell_type": "markdown",
   "metadata": {},
   "source": [
    "- Specify -a when you run the tag command. \n",
    "- The -m specifies a tagging message, which is stored with the tag."
   ]
  },
  {
   "cell_type": "raw",
   "metadata": {},
   "source": [
    "$ git tag -a v1.4 -m \"my version 1.4\""
   ]
  },
  {
   "cell_type": "markdown",
   "metadata": {},
   "source": [
    "### 2.2 Create a tag for your history commit (tagging later)"
   ]
  },
  {
   "cell_type": "markdown",
   "metadata": {},
   "source": [
    "You can also tag commits after you’ve moved past them. To tag that commit, you will need to specify the commit checksum (or part of it) at the end of the command:"
   ]
  },
  {
   "cell_type": "markdown",
   "metadata": {},
   "source": [
    "First, use git log to show the commit history to identify the history commmit that you want to tag."
   ]
  },
  {
   "cell_type": "raw",
   "metadata": {},
   "source": [
    "$ git log --pretty=oneline\n",
    "\n",
    "15027957951b64cf874c3557a0f3547bd83b3ff6 Merge branch 'experiment'\n",
    "a6b4c97498bd301d84096da251c98a07c7723e65 beginning write support\n",
    "0d52aaab4479697da7686c15f77a3d64d9165190 one more thing\n",
    "6d52a271eda8725415634dd79daabbc4d9b6008e Merge branch 'experiment'\n",
    "0b7434d86859cc7b8c3d5e1dddfed66ff742fcbc added a commit function\n",
    "4682c3261057305bdd616e23b64b0857d832627b added a todo file\n",
    "166ae0c4d3f420721acbb115cc33848dfcc2121a started write support\n",
    "9fceb02d0ae598e95dc970b74767f19372d61af8 updated rakefile\n",
    "964f16d36dfccde844893cac5b347e7b3d44abbc commit the todo\n",
    "8a5cbc430f1a9c3d00faaeffd07798508422908a updated readme"
   ]
  },
  {
   "cell_type": "markdown",
   "metadata": {},
   "source": [
    "Then tag it by supplying the checksum at the end."
   ]
  },
  {
   "cell_type": "raw",
   "metadata": {},
   "source": [
    "$ git tag -a v1.2 9fceb02"
   ]
  }
 ],
 "metadata": {
  "kernelspec": {
   "display_name": "Python 3",
   "language": "python",
   "name": "python3"
  },
  "language_info": {
   "codemirror_mode": {
    "name": "ipython",
    "version": 3
   },
   "file_extension": ".py",
   "mimetype": "text/x-python",
   "name": "python",
   "nbconvert_exporter": "python",
   "pygments_lexer": "ipython3",
   "version": "3.5.1"
  },
  "latex_envs": {
   "bibliofile": "biblio.bib",
   "cite_by": "apalike",
   "current_citInitial": 1,
   "eqLabelWithNumbers": true,
   "eqNumInitial": 0
  }
 },
 "nbformat": 4,
 "nbformat_minor": 0
}
