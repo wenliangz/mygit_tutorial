{
 "cells": [
  {
   "cell_type": "markdown",
   "metadata": {},
   "source": [
    "# Inspecting a repository"
   ]
  },
  {
   "cell_type": "markdown",
   "metadata": {},
   "source": [
    "## 1. Check Status of a repository : git status"
   ]
  },
  {
   "cell_type": "markdown",
   "metadata": {},
   "source": [
    "The git status command displays the state of the working directory and the staging area. It lets you see which changes have been staged, which haven’t, and which files aren’t being tracked by Git. Status output does not show you any information regarding the committed project history."
   ]
  },
  {
   "cell_type": "markdown",
   "metadata": {},
   "source": [
    "When working with files in Git repository, we will frequently need to check the status of files in the working directory. There are several status of files in the file life cycle. "
   ]
  },
  {
   "cell_type": "markdown",
   "metadata": {},
   "source": [
    "<img  src=\"../figs/JT29XVXTY8SRH5GHQ9W1VAYSVU2PHMU7.png\"/>"
   ]
  },
  {
   "cell_type": "markdown",
   "metadata": {},
   "source": [
    "### 1.1 To see the status of all the files in the working directory"
   ]
  },
  {
   "cell_type": "markdown",
   "metadata": {},
   "source": [
    "#### Detailed Status:"
   ]
  },
  {
   "cell_type": "raw",
   "metadata": {},
   "source": [
    "$ git status"
   ]
  },
  {
   "cell_type": "markdown",
   "metadata": {},
   "source": [
    "Ths command is used to determine which files are in which state for all fiels in the current working directory. Each file can be in two statuss, untracked or tracked, and each tracked file have three different status."
   ]
  },
  {
   "cell_type": "markdown",
   "metadata": {},
   "source": [
    "- **untracked**: have not been added into local git repository\n",
    "- **tracked**: it has been added into local git repository. The tracked files also have three different status: \n",
    "    - unmodified\n",
    "    - modified\n",
    "    - staged\n"
   ]
  },
  {
   "cell_type": "markdown",
   "metadata": {},
   "source": [
    "#### Short Status"
   ]
  },
  {
   "cell_type": "markdown",
   "metadata": {},
   "source": [
    "While the git status output is pretty comprehensive, it’s also quite wordy. Git also has a short status flag so you can see your changes in a more compact way. If you run git status -s or git status --short you get a far more simplified output from the command:"
   ]
  },
  {
   "cell_type": "raw",
   "metadata": {},
   "source": [
    "$ git status -s"
   ]
  },
  {
   "cell_type": "markdown",
   "metadata": {},
   "source": [
    "### 1.2 To see what you’ve changed but not yet staged"
   ]
  },
  {
   "cell_type": "markdown",
   "metadata": {},
   "source": [
    "#### File changed, but not staged:"
   ]
  },
  {
   "cell_type": "markdown",
   "metadata": {},
   "source": [
    "Type git diff with no other arguments.That command compares what is in your working directory with what is in your staging area. The result tells you the changes you’ve made that you haven’t yet staged."
   ]
  },
  {
   "cell_type": "markdown",
   "metadata": {},
   "source": [
    "It’s important to note that git diff by itself doesn’t show all changes made since your last commit – only changes that are still unstaged. This can be confusing, because if you’ve staged all of your changes, git diff will give you no output."
   ]
  },
  {
   "cell_type": "raw",
   "metadata": {},
   "source": [
    "$ git diff"
   ]
  },
  {
   "cell_type": "markdown",
   "metadata": {},
   "source": [
    "#### File staged, but not committed:"
   ]
  },
  {
   "cell_type": "markdown",
   "metadata": {},
   "source": [
    "If you want to see what you’ve staged that will go into your next commit, you can use git diff --staged. This command compares your staged changes to your last commit:"
   ]
  },
  {
   "cell_type": "raw",
   "metadata": {},
   "source": [
    "$ git diff --staged"
   ]
  },
  {
   "cell_type": "markdown",
   "metadata": {},
   "source": [
    "## 2. Viewing the Commit History : git log"
   ]
  },
  {
   "cell_type": "markdown",
   "metadata": {},
   "source": [
    "The git log command displays committed snapshots. It lets you list the project history, filter it, and search for specific changes. While git status lets you inspect the working directory and the staging area, git log only operates on the committed history."
   ]
  },
  {
   "cell_type": "markdown",
   "metadata": {},
   "source": [
    "After you have created several commits, or if you have cloned a repository with an existing commit history, you’ll probably want to look back to see what has happened. The most basic and powerful tool to do this is the git log command."
   ]
  },
  {
   "cell_type": "raw",
   "metadata": {},
   "source": [
    "$ git log"
   ]
  },
  {
   "cell_type": "markdown",
   "metadata": {},
   "source": [
    "with no arguments, git log lists the commits made in that repository in reverse chronological order – that is, the most recent commits show up first. As you can see, this command lists each commit with its SHA-1 checksum, the author’s name and email, the date written, and the commit message. If the output takes up more than one screen, you can use Space to scroll and q to exit."
   ]
  },
  {
   "cell_type": "raw",
   "metadata": {},
   "source": [
    "$ git log -n <limit>"
   ]
  },
  {
   "cell_type": "markdown",
   "metadata": {},
   "source": [
    "Limit the number of commits by <limit>. For example, git log -n 3 will display only 3 commits."
   ]
  },
  {
   "cell_type": "raw",
   "metadata": {},
   "source": [
    "$ git log --oneline"
   ]
  },
  {
   "cell_type": "markdown",
   "metadata": {},
   "source": [
    "Condense each commit to a single line. This is useful for getting a high-level overview of the project history."
   ]
  },
  {
   "cell_type": "raw",
   "metadata": {},
   "source": [
    "$ git log --stat"
   ]
  },
  {
   "cell_type": "markdown",
   "metadata": {},
   "source": [
    "Along with the ordinary git log information, include which files were altered and the relative number of lines that were added or deleted from each of them."
   ]
  },
  {
   "cell_type": "raw",
   "metadata": {},
   "source": [
    "$ git log -p"
   ]
  },
  {
   "cell_type": "markdown",
   "metadata": {},
   "source": [
    "Display the patch representing each commit. This shows the full diff of each commit, which is the most detailed view you can have of your project history."
   ]
  },
  {
   "cell_type": "raw",
   "metadata": {},
   "source": [
    "$ git log --author=\"<pattern>\""
   ]
  },
  {
   "cell_type": "markdown",
   "metadata": {},
   "source": [
    "Search for commits by a particular author. The pattern argument can be a plain string or a regular expression."
   ]
  },
  {
   "cell_type": "raw",
   "metadata": {},
   "source": [
    "$ git log --grep=\"<pattern>\""
   ]
  },
  {
   "cell_type": "markdown",
   "metadata": {},
   "source": [
    "Search for commits with a commit message that matches pattern, which can be a plain string or a regular expression."
   ]
  },
  {
   "cell_type": "raw",
   "metadata": {},
   "source": [
    "$ git log <since>..<until>"
   ]
  },
  {
   "cell_type": "markdown",
   "metadata": {},
   "source": [
    "Show only commits that occur between [since] and [until]. Both arguments can be either a commit ID, a branch name, HEAD, or any other kind of revision reference"
   ]
  },
  {
   "cell_type": "raw",
   "metadata": {},
   "source": [
    "$ git log --graph --decorate --oneline"
   ]
  },
  {
   "cell_type": "markdown",
   "metadata": {},
   "source": [
    "A few useful options to consider. The —graph flag that will draw a text based graph of the commits on the left hand side of the commit messages. —decorate adds the names of branches or tags of the commits that are shown. —oneline shows the commit information on a single line making it easier to browse through commits at-a-glance."
   ]
  },
  {
   "cell_type": "markdown",
   "metadata": {},
   "source": [
    "#### Examples:"
   ]
  },
  {
   "cell_type": "raw",
   "metadata": {},
   "source": [
    "$ git log -p -2"
   ]
  },
  {
   "cell_type": "markdown",
   "metadata": {},
   "source": [
    "- the time-limiting options such as --since and --until are very useful. For example, this command gets the list of commits made in the last two weeks:"
   ]
  },
  {
   "cell_type": "raw",
   "metadata": {},
   "source": [
    "$ git log --since=2.weeks"
   ]
  },
  {
   "cell_type": "markdown",
   "metadata": {},
   "source": [
    "- the -S option which takes a string and only shows the commits that introduced a change to the code that added or removed that string. For instance, if you wanted to find the last commit that added or removed a reference to a specific function, you could call:\n"
   ]
  },
  {
   "cell_type": "raw",
   "metadata": {},
   "source": [
    "$ git log -Sfunction_name"
   ]
  },
  {
   "cell_type": "markdown",
   "metadata": {},
   "source": [
    "- use double dashes (--) to pass a path to git log as a filter. The path is generally preceded by double dashes (--) to separate the paths from the options."
   ]
  },
  {
   "cell_type": "raw",
   "metadata": {},
   "source": [
    "$ git log --pretty=\"%h - %s\" --author=gitster --since=\"2008-10-01\" \\\n",
    "   --before=\"2008-11-01\" --no-merges -- t/"
   ]
  },
  {
   "cell_type": "markdown",
   "metadata": {},
   "source": [
    "- use --pretty to format log output. Useful options for git log --pretty=format"
   ]
  },
  {
   "cell_type": "markdown",
   "metadata": {},
   "source": [
    "\n",
    "|Option\t|Description of Output|\n",
    "|--|--|\n",
    "|%H|Commit hash|\n",
    "|%h|Abbreviated commit hash|\n",
    "|%T|Tree hash|\n",
    "|%t|Abbreviated tree hash|\n",
    "|%P|Parent hashes|\n",
    "|%p|Abbreviated parent hashes|\n",
    "|%an|Author name|\n",
    "|%ae|Author email|\n",
    "|%ad|Author date (format respects the --date=option)|\n",
    "|%ar|Author date, relative|\n",
    "|%cn|Committer name|\n",
    "|%ce|Committer email|\n",
    "|%cd|Committer date|\n",
    "|%cr|Committer date, relative|\n",
    "|%s|Subject|\n",
    "\n"
   ]
  },
  {
   "cell_type": "raw",
   "metadata": {},
   "source": [
    "$ git log --pretty=oneline"
   ]
  },
  {
   "cell_type": "raw",
   "metadata": {},
   "source": [
    "$ git log --pretty=format:\"%h - %an, %ar : %s\""
   ]
  },
  {
   "cell_type": "raw",
   "metadata": {},
   "source": [
    "$ git log --pretty=format:\"%h %s\" --graph"
   ]
  },
  {
   "cell_type": "markdown",
   "metadata": {},
   "source": [
    "### View the commit log for a specific branch"
   ]
  },
  {
   "cell_type": "raw",
   "metadata": {},
   "source": [
    "$git log branchname --oneline -3"
   ]
  }
 ],
 "metadata": {
  "kernelspec": {
   "display_name": "Python 3",
   "language": "python",
   "name": "python3"
  },
  "language_info": {
   "codemirror_mode": {
    "name": "ipython",
    "version": 3
   },
   "file_extension": ".py",
   "mimetype": "text/x-python",
   "name": "python",
   "nbconvert_exporter": "python",
   "pygments_lexer": "ipython3",
   "version": "3.5.2"
  },
  "latex_envs": {
   "bibliofile": "biblio.bib",
   "cite_by": "apalike",
   "current_citInitial": 1,
   "eqLabelWithNumbers": true,
   "eqNumInitial": 0
  }
 },
 "nbformat": 4,
 "nbformat_minor": 0
}
