{
 "cells": [
  {
   "cell_type": "markdown",
   "metadata": {},
   "source": [
    "#  Recording Changes to Git Repository"
   ]
  },
  {
   "cell_type": "markdown",
   "metadata": {},
   "source": [
    "Once we initialize a new local git repository or cloned an existing repository, we are ready to **record changes of the files to Git repository**. The changes include adding new files and modifing files. To record these changes, there are two steps:\n",
    "- Stage the changes by **add** command\n",
    "- Commit the changes by **commit** command"
   ]
  },
  {
   "cell_type": "markdown",
   "metadata": {},
   "source": [
    "## 1. Add and Remove new files to Git repository"
   ]
  },
  {
   "cell_type": "markdown",
   "metadata": {},
   "source": [
    "#### Add new files into Git repository:"
   ]
  },
  {
   "cell_type": "markdown",
   "metadata": {},
   "source": [
    "- When we first initialize a new local git repository by init command, there are nothing that are kept in track yet. We will first need to add files into the git repository for tracking(version control). Normally you will want to add all the files in the directory into the staging area and commit changes immediately as a initial snapshot."
   ]
  },
  {
   "cell_type": "raw",
   "metadata": {},
   "source": [
    "$ git add *.*   # this add all the files"
   ]
  },
  {
   "cell_type": "markdown",
   "metadata": {},
   "source": [
    "- At any time during developing, you need to add new files into the git repository to keep tracks of the new files."
   ]
  },
  {
   "cell_type": "raw",
   "metadata": {},
   "source": [
    "$ git add *.py   # this add only .py files\n",
    "$ git add LICENSE  # this add only the LICENSE file"
   ]
  },
  {
   "cell_type": "markdown",
   "metadata": {},
   "source": [
    "#### Untrack files (Remove files from Git repository):"
   ]
  },
  {
   "cell_type": "raw",
   "metadata": {},
   "source": [
    "git rm --cached [filePath]: This will remove the file from the git repository, leaving you with an untracked file."
   ]
  },
  {
   "cell_type": "markdown",
   "metadata": {},
   "source": [
    "#### Ignore files from tracking:"
   ]
  },
  {
   "cell_type": "markdown",
   "metadata": {},
   "source": [
    "Often, you’ll have a class of files that you don’t want Git to automatically add or even show you as being untracked. These are generally automatically generated files such as log files or files produced by your build system. In such cases, you can create a file named **.gitignore**  and in the file list patterns to match the file names to be ignored"
   ]
  },
  {
   "cell_type": "markdown",
   "metadata": {},
   "source": [
    "An example of .gitignore file:"
   ]
  },
  {
   "cell_type": "raw",
   "metadata": {},
   "source": [
    "# no .a files\n",
    "*.a\n",
    "\n",
    "# but do track lib.a, even though you're ignoring .a files above\n",
    "!lib.a\n",
    "\n",
    "# only ignore the TODO file in the current directory, not subdir/TODO\n",
    "/TODO\n",
    "\n",
    "# ignore all files in the build/ directory\n",
    "build/\n",
    "\n",
    "# ignore doc/notes.txt, but not doc/server/arch.txt\n",
    "doc/*.txt\n",
    "\n",
    "# ignore all .pdf files in the doc/ directory\n",
    "doc/**/*.pdf"
   ]
  },
  {
   "cell_type": "markdown",
   "metadata": {},
   "source": [
    "GitHub maintains a fairly comprehensive list of good .gitignore file examples for dozens of projects and languages at https://github.com/github/gitignore if you want a starting point for your project."
   ]
  },
  {
   "cell_type": "markdown",
   "metadata": {},
   "source": [
    "#### Moving Files:"
   ]
  },
  {
   "cell_type": "raw",
   "metadata": {},
   "source": [
    "$ git mv file_from file_to"
   ]
  },
  {
   "cell_type": "markdown",
   "metadata": {},
   "source": [
    "This is equivalent to running something like this:"
   ]
  },
  {
   "cell_type": "raw",
   "metadata": {},
   "source": [
    "$ mv README.md README\n",
    "$ git rm README.md\n",
    "$ git add README"
   ]
  },
  {
   "cell_type": "markdown",
   "metadata": {},
   "source": [
    "Unlike many other VCS systems, Git doesn’t explicitly track file movement. If you rename a file in Git, no metadata is stored in Git that tells it you renamed the file. However, Git is pretty smart about figuring that out after the fact "
   ]
  },
  {
   "cell_type": "markdown",
   "metadata": {},
   "source": [
    "## 2. Stage and Unstage file changes to Git repository"
   ]
  },
  {
   "cell_type": "markdown",
   "metadata": {},
   "source": [
    "Stage changes means to add all the changes into the staging area in order to make a final commit(take a snap shot). It is like that we put all the peoples or make changes to the people in front of the camera ready to take a picture! "
   ]
  },
  {
   "cell_type": "raw",
   "metadata": {},
   "source": [
    "$ git add [modified files]"
   ]
  },
  {
   "cell_type": "markdown",
   "metadata": {},
   "source": [
    "### Stage modified files:"
   ]
  },
  {
   "cell_type": "markdown",
   "metadata": {},
   "source": [
    "When you modified a file and want to track the modified changes in the git repository, you will also first need to add the modified files into the staging area before committing the changes."
   ]
  },
  {
   "cell_type": "markdown",
   "metadata": {},
   "source": [
    "After you modified a file, you also want to add the file to the staging area for committing changes later."
   ]
  },
  {
   "cell_type": "raw",
   "metadata": {},
   "source": [
    "$ vim readme.txt"
   ]
  },
  {
   "cell_type": "raw",
   "metadata": {},
   "source": [
    "$ git add readme.txt"
   ]
  },
  {
   "cell_type": "markdown",
   "metadata": {},
   "source": [
    "### Unstage files:"
   ]
  },
  {
   "cell_type": "raw",
   "metadata": {},
   "source": [
    "git reset [filePath]: This will unstage any staged changes for the given file(s)."
   ]
  },
  {
   "cell_type": "markdown",
   "metadata": {},
   "source": [
    "## 3. Commit file changes to Git repository"
   ]
  },
  {
   "cell_type": "raw",
   "metadata": {},
   "source": [
    "$ git commit"
   ]
  },
  {
   "cell_type": "markdown",
   "metadata": {},
   "source": [
    "This commit command commits all the changes currently sitting in the staging area. As each commit always needs committing message, this command is almost always followed with an option -m for giving a commit message. However, if no -m option, the text editor will fires up for entering commiting message."
   ]
  },
  {
   "cell_type": "markdown",
   "metadata": {},
   "source": [
    "Here are some cases that you need to commit file changes:"
   ]
  },
  {
   "cell_type": "markdown",
   "metadata": {},
   "source": [
    "- After you first initialized a git repository, you will normally add all the files in the directory into the staging area and commit changes immediately as a initial snapshot."
   ]
  },
  {
   "cell_type": "raw",
   "metadata": {},
   "source": [
    "$ git commit -m 'initial project version'"
   ]
  },
  {
   "cell_type": "markdown",
   "metadata": {},
   "source": [
    "- When the project reaches a state you want to record all the changes(take a snap shot), then you need first put all the changes in the staging areas and make a commit to take snapshots of those changes into your git repository."
   ]
  },
  {
   "cell_type": "raw",
   "metadata": {},
   "source": [
    "$ git commit -m 'stable version'"
   ]
  },
  {
   "cell_type": "markdown",
   "metadata": {},
   "source": [
    "#### Amend the previous commit "
   ]
  },
  {
   "cell_type": "markdown",
   "metadata": {},
   "source": [
    "Note: this only works for the most recent commit message. If you want to change older or multiple commit message, you will have to have use rebase to commit to rewrite commit message history."
   ]
  },
  {
   "cell_type": "raw",
   "metadata": {},
   "source": [
    "$ git commit --amend"
   ]
  },
  {
   "cell_type": "markdown",
   "metadata": {},
   "source": [
    "If you commit and then realize that you commit too early and possibly forget to add some files, or you mess up your commit message,this command can help you to fix it. It will fire up the commit-message editor, which already contains the message of your previous commit. You can then edit the message and overwrites your previous commit."
   ]
  },
  {
   "cell_type": "raw",
   "metadata": {},
   "source": [
    "$ git commit -m 'initial commit'\n",
    "$ git add forgotten_file\n",
    "$ git commit --amend"
   ]
  },
  {
   "cell_type": "markdown",
   "metadata": {},
   "source": [
    "## 4. Add and Commit file changes to Git repository in one step"
   ]
  },
  {
   "cell_type": "markdown",
   "metadata": {},
   "source": [
    "Adding the -a option to the git commit command makes Git automatically stage every file that is **already tracked** before doing the commit, letting you skip the git add part:"
   ]
  },
  {
   "cell_type": "raw",
   "metadata": {},
   "source": [
    "$ git commit -a -m 'added new benchmarks'"
   ]
  }
 ],
 "metadata": {
  "kernelspec": {
   "display_name": "Python 3",
   "language": "python",
   "name": "python3"
  },
  "language_info": {
   "codemirror_mode": {
    "name": "ipython",
    "version": 3
   },
   "file_extension": ".py",
   "mimetype": "text/x-python",
   "name": "python",
   "nbconvert_exporter": "python",
   "pygments_lexer": "ipython3",
   "version": "3.5.2"
  },
  "latex_envs": {
   "bibliofile": "biblio.bib",
   "cite_by": "apalike",
   "current_citInitial": 1,
   "eqLabelWithNumbers": true,
   "eqNumInitial": 0
  }
 },
 "nbformat": 4,
 "nbformat_minor": 0
}
