{
 "cells": [
  {
   "cell_type": "markdown",
   "metadata": {},
   "source": [
    "# Setup a local Git repository"
   ]
  },
  {
   "cell_type": "markdown",
   "metadata": {},
   "source": [
    "Two ways to setup a local Git repository:\n",
    "- Initializing a Git Repository in an Existing Directory (create a new Git repository in local directory to be tracked)\n",
    "- Cloning an Existing Git Repository   (get a copy of existing Git repository)"
   ]
  },
  {
   "cell_type": "markdown",
   "metadata": {},
   "source": [
    "### 2.1 Initializing a new Git Repository in an Existing Directory"
   ]
  },
  {
   "cell_type": "markdown",
   "metadata": {},
   "source": [
    "This is the case when you have an existing project folder with files in your local computer and want to add those files into a local git repository in order to keep them in track."
   ]
  },
  {
   "cell_type": "markdown",
   "metadata": {},
   "source": [
    "#### Initialize an empty local Git repository"
   ]
  },
  {
   "cell_type": "raw",
   "metadata": {},
   "source": [
    "$ git init"
   ]
  },
  {
   "cell_type": "markdown",
   "metadata": {},
   "source": [
    "Please note that this creates a new subdirectory named .git that contains all of your necessary repository files – a Git repository skeleton. However, **at this point, nothing in your project is tracked(version controlled) yet**."
   ]
  },
  {
   "cell_type": "markdown",
   "metadata": {},
   "source": [
    "Normally, the first to do after you initialize a local Git repository is to add all the files in the current directory into the Git repository."
   ]
  },
  {
   "cell_type": "markdown",
   "metadata": {},
   "source": [
    "### 2.2 Cloning an Existing Repository from Git server"
   ]
  },
  {
   "cell_type": "markdown",
   "metadata": {},
   "source": [
    "This is the case, when you want to get a copy of an existing Git repository. "
   ]
  },
  {
   "cell_type": "raw",
   "metadata": {},
   "source": [
    "$ git clone [address]"
   ]
  },
  {
   "cell_type": "markdown",
   "metadata": {},
   "source": [
    "This command will clone a full copy of nearly all data that the server has. Every version of every file for the history of the project is pulled down by default when you run git clone."
   ]
  },
  {
   "cell_type": "markdown",
   "metadata": {},
   "source": [
    "Git server has a number of different transfer protocols you can use. Based on different protocols, the command format will look a little different. \n",
    "\n",
    "- use http protocol, you may uses the https:// protocol\n",
    "- for SSH transfer protocol, but you may also see git:// or user@server:path/to/repo.git"
   ]
  },
  {
   "cell_type": "markdown",
   "metadata": {},
   "source": [
    "For example, you want to to clone the Git linkable library called libgit2, you can do so like this:\n",
    "\n"
   ]
  },
  {
   "cell_type": "raw",
   "metadata": {},
   "source": [
    "$ git clone https://github.com/libgit2/libgit2"
   ]
  },
  {
   "cell_type": "markdown",
   "metadata": {},
   "source": [
    "That creates a directory named “libgit2”, initializes a .git directory inside it, pulls down all the data for that repository, and checks out a working copy of the latest version. If you go into the new libgit2 directory, you’ll see the project files in there, ready to be worked on or used. If you want to clone the repository into a directory named something other than “libgit2”, you can specify that as the next command-line option:"
   ]
  },
  {
   "cell_type": "raw",
   "metadata": {},
   "source": [
    "$ git clone https://github.com/libgit2/libgit2 mylibgit"
   ]
  }
 ],
 "metadata": {
  "kernelspec": {
   "display_name": "Python 3",
   "language": "python",
   "name": "python3"
  },
  "language_info": {
   "codemirror_mode": {
    "name": "ipython",
    "version": 3
   },
   "file_extension": ".py",
   "mimetype": "text/x-python",
   "name": "python",
   "nbconvert_exporter": "python",
   "pygments_lexer": "ipython3",
   "version": "3.5.1"
  },
  "latex_envs": {
   "bibliofile": "biblio.bib",
   "cite_by": "apalike",
   "current_citInitial": 1,
   "eqLabelWithNumbers": true,
   "eqNumInitial": 0
  }
 },
 "nbformat": 4,
 "nbformat_minor": 0
}
